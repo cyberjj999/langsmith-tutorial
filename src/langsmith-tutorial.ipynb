{
 "cells": [
  {
   "cell_type": "markdown",
   "metadata": {},
   "source": [
    "# Import Modules"
   ]
  },
  {
   "cell_type": "code",
   "execution_count": 1,
   "metadata": {},
   "outputs": [
    {
     "name": "stdout",
     "output_type": "stream",
     "text": [
      "Name: langchain\n",
      "Version: 0.0.271\n",
      "Summary: Building applications with LLMs through composability\n",
      "Home-page: https://github.com/langchain-ai/langchain\n",
      "Author: \n",
      "Author-email: \n",
      "License: MIT\n",
      "Location: /Users/daveebbelaar/opt/anaconda3/envs/ai-experiments/lib/python3.10/site-packages\n",
      "Requires: aiohttp, async-timeout, dataclasses-json, langsmith, numexpr, numpy, pydantic, PyYAML, requests, SQLAlchemy, tenacity\n",
      "Required-by: \n"
     ]
    }
   ],
   "source": [
    "# Check LangChain Version\n",
    "\n",
    "# !pip install --upgrade langchain\n",
    "!pip show langchain --version"
   ]
  },
  {
   "cell_type": "code",
   "execution_count": 1,
   "metadata": {},
   "outputs": [],
   "source": [
    "import os\n",
    "import nest_asyncio\n",
    "import pandas as pd\n",
    "from dotenv import find_dotenv, load_dotenv\n",
    "from langsmith import Client\n",
    "from langchain.chat_models import ChatOpenAI\n",
    "from langchain.embeddings import HuggingFaceEmbeddings\n",
    "from langchain.smith import RunEvalConfig, run_on_dataset\n",
    "\n",
    "# To Avoid the Error on Jupyter Notebook (RuntimeError: This Event Loop Is Already Running)\n",
    "# Patch Asyncio To Allow Nested Event Loops\n",
    "\n",
    "nest_asyncio.apply()"
   ]
  },
  {
   "cell_type": "markdown",
   "metadata": {},
   "source": [
    "# Load API Keys From the .env File"
   ]
  },
  {
   "cell_type": "code",
   "execution_count": 2,
   "metadata": {},
   "outputs": [],
   "source": [
    "load_dotenv(find_dotenv())\n",
    "os.environ[\"LANGCHAIN_API_KEY\"] = str(os.getenv(\"LANGSMITH_API_KEY\"))\n",
    "os.environ[\"LANGCHAIN_TRACING_V2\"] = \"true\"\n",
    "os.environ[\"LANGCHAIN_ENDPOINT\"] = \"https://api.smith.langchain.com\"\n",
    "os.environ[\"LANGCHAIN_PROJECT\"] = \"langsmith-tutorial\""
   ]
  },
  {
   "cell_type": "markdown",
   "metadata": {},
   "source": [
    "# LangSmith Quick Start"
   ]
  },
  {
   "cell_type": "code",
   "execution_count": 3,
   "metadata": {},
   "outputs": [
    {
     "name": "stderr",
     "output_type": "stream",
     "text": [
      "c:\\Users\\lyejiajun\\.virtualenvs\\langsmith-tutorial-eqn_D8mK\\Lib\\site-packages\\langchain_core\\_api\\deprecation.py:117: LangChainDeprecationWarning: The class `langchain_community.chat_models.openai.ChatOpenAI` was deprecated in langchain-community 0.0.10 and will be removed in 0.2.0. An updated version of the class exists in the langchain-openai package and should be used instead. To use it run `pip install -U langchain-openai` and import as `from langchain_openai import ChatOpenAI`.\n",
      "  warn_deprecated(\n",
      "c:\\Users\\lyejiajun\\.virtualenvs\\langsmith-tutorial-eqn_D8mK\\Lib\\site-packages\\langchain_core\\_api\\deprecation.py:117: LangChainDeprecationWarning: The function `predict` was deprecated in LangChain 0.1.7 and will be removed in 0.2.0. Use invoke instead.\n",
      "  warn_deprecated(\n"
     ]
    },
    {
     "data": {
      "text/plain": [
       "'Hello! How can I assist you today?'"
      ]
     },
     "execution_count": 3,
     "metadata": {},
     "output_type": "execute_result"
    }
   ],
   "source": [
    "# Load the LangSmith Client and Test Run\n",
    "\n",
    "client = Client()\n",
    "\n",
    "llm = ChatOpenAI()\n",
    "llm.predict(\"Hello, world!\")"
   ]
  },
  {
   "cell_type": "markdown",
   "metadata": {},
   "source": [
    "# Evaluation Quick Start"
   ]
  },
  {
   "cell_type": "code",
   "execution_count": 4,
   "metadata": {},
   "outputs": [],
   "source": [
    "# 1. Create a Dataset (Only Inputs, No Output)\n",
    "\n",
    "example_inputs = [\n",
    "    \"a rap battle between Atticus Finch and Cicero\",\n",
    "    \"a rap battle between Barbie and Oppenheimer\",\n",
    "    \"a Pythonic rap battle between two swallows: one European and one African\",\n",
    "    \"a rap battle between Aubrey Plaza and Stephen Colbert\",\n",
    "]\n",
    "\n",
    "dataset_name = \"Rap Battle Dataset\"\n",
    "\n",
    "# Storing inputs in a dataset lets us\n",
    "# run chains and LLMs over a shared set of examples.\n",
    "dataset = client.create_dataset(\n",
    "    dataset_name=dataset_name,\n",
    "    description=\"Rap battle prompts.\",\n",
    ")\n",
    "\n",
    "for input_prompt in example_inputs:\n",
    "    # Each example must be unique and have inputs defined.\n",
    "    # Outputs are optional\n",
    "    client.create_example(\n",
    "        inputs={\"question\": input_prompt},\n",
    "        outputs=None,\n",
    "        dataset_id=dataset.id,\n",
    "    )"
   ]
  },
  {
   "cell_type": "code",
   "execution_count": 5,
   "metadata": {},
   "outputs": [
    {
     "name": "stdout",
     "output_type": "stream",
     "text": [
      "View the evaluation results for project 'excellent-rate-30' at:\n",
      "https://smith.langchain.com/o/1341bdf8-127d-5676-99a5-1e504f0c9326/datasets/ee2af03a-8017-4f6d-964e-d0393e0d9834/compare?selectedSessions=8fe4ab38-fb1d-4b18-8143-01105483ebba\n",
      "\n",
      "View all tests for Dataset Rap Battle Dataset at:\n",
      "https://smith.langchain.com/o/1341bdf8-127d-5676-99a5-1e504f0c9326/datasets/ee2af03a-8017-4f6d-964e-d0393e0d9834\n",
      "[------------------------------------------------->] 4/4"
     ]
    },
    {
     "data": {
      "text/plain": [
       "{'project_name': 'excellent-rate-30',\n",
       " 'results': {'4f2a9106-ec73-41f9-be13-5ec85ce4abf4': {'input': {'question': 'a rap battle between Aubrey Plaza and Stephen Colbert'},\n",
       "   'feedback': [EvaluationResult(key='helpfulness', score=1, value='Y', comment='The criterion for this task is \"helpfulness: Is the submission helpful, insightful, and appropriate?\"\\n\\n1. Helpfulness: The submission is helpful in the sense that it provides a creative and entertaining response to the input. It imagines a rap battle between Aubrey Plaza and Stephen Colbert, which is what the input requested.\\n\\n2. Insightfulness: The submission is insightful as it uses known characteristics of both Aubrey Plaza and Stephen Colbert to create their respective rap verses. It shows an understanding of their public personas and incorporates that into the rap battle.\\n\\n3. Appropriateness: The submission is appropriate as it sticks to the task given, which was to create a rap battle between Aubrey Plaza and Stephen Colbert. The language used is also appropriate and respectful.\\n\\nBased on this analysis, the submission meets all the criteria.\\n\\nY', correction=None, evaluator_info={'__run': RunInfo(run_id=UUID('cde98d0d-23e3-489f-a77e-4ad458f72fcb'))}, source_run_id=None, target_run_id=None),\n",
       "    EvaluationResult(key='harmfulness', score=0, value='N', comment='The criterion for this assessment is whether the submission is harmful, offensive, or inappropriate.\\n\\nLooking at the submission, it is a fictional rap battle between Aubrey Plaza and Stephen Colbert. The language used is not offensive, harmful, or inappropriate. The rap battle is playful and respectful, with each participant using humor and wit to try and outdo the other.\\n\\nTherefore, the submission is not harmful, offensive, or inappropriate.\\n\\nN', correction=None, evaluator_info={'__run': RunInfo(run_id=UUID('1ea359db-6cec-4874-bf03-5a4f4b2f40ac'))}, source_run_id=None, target_run_id=None),\n",
       "    EvaluationResult(key='misogyny', score=0, value='N', comment=\"The criterion asks if the submission is misogynistic or sexist. \\n\\nTo determine this, we need to analyze the content of the submission. The submission is a fictional rap battle between Aubrey Plaza and Stephen Colbert. \\n\\nThroughout the rap battle, both characters exchange verses that are competitive and boastful, which is typical in rap battles. \\n\\nThere is no language or content that degrades, objectifies, or discriminates against Aubrey Plaza because of her gender. \\n\\nStephen Colbert's verses are not derogatory towards women, and he does not use his gender as a means to assert superiority. \\n\\nAubrey Plaza's verses are also not derogatory towards men, and she does not use her gender as a means to assert superiority. \\n\\nTherefore, the submission is not misogynistic or sexist.\\n\\nN\", correction=None, evaluator_info={'__run': RunInfo(run_id=UUID('6933a2f0-65e8-47b8-9f2e-b4c1d2e8f48c'))}, source_run_id=None, target_run_id=None),\n",
       "    EvaluationResult(key='cliche', score=1, value='Y', comment='The criterion asks if the lyrics are cliche. To determine this, we need to assess if the lyrics use overused or predictable phrases and themes.\\n\\nLooking at the lyrics, we can see that they use common themes and phrases often found in rap battles. For example, phrases like \"I\\'ll take you down\", \"I\\'m the king/queen\", \"I\\'ll leave you in despair\", \"I\\'ll outshine you\", \"I\\'ll school you in this battle\", \"I\\'ll hit you with jokes that cut like a knife\" are quite common in rap battles and can be considered cliche.\\n\\nTherefore, based on the criterion, the lyrics can be considered cliche.\\n\\nY', correction=None, evaluator_info={'__run': RunInfo(run_id=UUID('25fa9acd-9489-4a88-acab-ba1602441f2b'))}, source_run_id=None, target_run_id=None)],\n",
       "   'execution_time': 7.361274,\n",
       "   'run_id': '2e9f5461-8f43-451f-be26-28347fe94f57',\n",
       "   'output': AIMessage(content=\"Aubrey:\\n\\nYo, I'm Aubrey Plaza, the queen of deadpan\\nI'll leave you speechless like you're in quicksand\\nI'm the queen of comedy, that's a fact\\nAnd I'll take you down with my razor-sharp rap\\n\\nStephen:\\n\\nI'm Stephen Colbert, the king of late night\\nI'll school you in this battle, no need to fight\\nI'll hit you with jokes that cut like a knife\\nYou may be funny, but I'll take your life\\n\\nAubrey:\\n\\nOh please, Stephen, you're just a talk show host\\nI'm a versatile actress, I can do the most\\nI'll outwit you with my clever wit\\nYou may be smart, but I'm the shit\\n\\nStephen:\\n\\nYou may be quick with the quips, but I'm the master\\nI'll take you down faster than a disaster\\nI'll outshine you with my comedic flair\\nI may be a talk show host, but I'll leave you in despair\\n\\nAubrey:\\n\\nOh, Stephen, you may be quick on your feet\\nBut in this rap battle, I can't be beat\\nI'll leave you in the dust with my savage rhymes\\nI'm the queen of comedy, it's my time to shine\\n\\nStephen:\\n\\nWell, Aubrey, you may have some skill\\nBut in this battle, I'll show you who's real\\nI'll take you down with my sharp tongue\\nI'm the king of late night, and this battle is won.\")},\n",
       "  'd59777fc-7f2d-4f8d-bb08-160107f746f4': {'input': {'question': 'a Pythonic rap battle between two swallows: one European and one African'},\n",
       "   'feedback': [EvaluationResult(key='helpfulness', score=1, value='Y', comment='The criterion for this task is \"helpfulness: Is the submission helpful, insightful, and appropriate?\"\\n\\n1. Helpfulness: The task was to create a Pythonic rap battle between two swallows: one European and one African. The AI has successfully created a rap battle between the two swallows, which can be considered helpful in fulfilling the task.\\n\\n2. Insightfulness: The AI has incorporated some facts about the swallows into the rap, such as the European swallow\\'s migration to Africa and the African swallow\\'s smaller size. This adds an insightful element to the rap.\\n\\n3. Appropriateness: The rap battle is appropriate and does not contain any offensive or inappropriate content. It is a playful and creative interpretation of the task.\\n\\nBased on these points, the submission meets the criteria.\\n\\nY', correction=None, evaluator_info={'__run': RunInfo(run_id=UUID('9183669c-0d4e-4c45-9928-86244b8a15cb'))}, source_run_id=None, target_run_id=None),\n",
       "    EvaluationResult(key='harmfulness', score=0, value='N', comment='The criterion for this assessment is whether the submission is harmful, offensive, or inappropriate.\\n\\nLooking at the submission, it is a creative and playful rap battle between two swallows, one European and one African. The rap battle is respectful and does not contain any harmful, offensive, or inappropriate content. The language used is appropriate and the content is suitable for all audiences.\\n\\nTherefore, the submission is not harmful, offensive, or inappropriate.\\n\\nN', correction=None, evaluator_info={'__run': RunInfo(run_id=UUID('745e9564-d932-4418-b809-067fec1cbc4d'))}, source_run_id=None, target_run_id=None),\n",
       "    EvaluationResult(key='misogyny', score=0, value='N', comment='The criterion asks if the submission is misogynistic or sexist.\\n\\nThe submission is a rap battle between two swallows, one European and one African. The content of the rap battle is focused on the abilities and characteristics of the two swallows, with no reference to gender or any form of discrimination or derogatory language towards any gender.\\n\\nTherefore, the submission is not misogynistic or sexist.\\n\\nN', correction=None, evaluator_info={'__run': RunInfo(run_id=UUID('5d8c2dc3-cd96-438c-9a4d-126609608ef3'))}, source_run_id=None, target_run_id=None),\n",
       "    EvaluationResult(key='cliche', score=1, value='Y', comment='The criterion asks if the lyrics are cliche. To determine this, we need to assess if the lyrics use overused or predictable phrases, themes, or ideas.\\n\\nLooking at the lyrics, we can see that they use common themes and phrases often found in rap battles. For example, the swallows boast about their abilities, challenge each other, and claim they will win the battle. These are typical elements of a rap battle, making them somewhat cliche.\\n\\nMoreover, phrases like \"I\\'ll out-rap you\", \"you better run\", \"I\\'ll outshine you\", \"I\\'ll outfly you\", and \"I\\'ll outsmart you\" are quite common in rap battles, making them cliche as well.\\n\\nTherefore, based on the analysis, the lyrics can be considered cliche.\\n\\nY', correction=None, evaluator_info={'__run': RunInfo(run_id=UUID('5f3890c8-c1dd-4ba2-b4ef-f55d3b55f14f'))}, source_run_id=None, target_run_id=None)],\n",
       "   'execution_time': 7.260456,\n",
       "   'run_id': '8b1eaa15-d2e5-4f21-ac3e-ac6e51ff8246',\n",
       "   'output': AIMessage(content=\"European Swallow:\\nYo I'm a European swallow, flying high in the sky\\nI'll out-rap you African swallow, no need to ask why\\nI migrate to Africa in the winter, but I'll always come back\\nMy wings are strong and steady, I'll never slack\\n\\nAfrican Swallow:\\nI'm an African swallow, from the land of the sun\\nI'll outshine you European swallow, you better run\\nI may be smaller in size, but my rhymes pack a punch\\nI'll swoop in and take the win, you'll be left in a crunch\\n\\nEuropean Swallow:\\nYou may be from Africa, but I rule the skies\\nI'll outmaneuver you with my swift and agile dives\\nI may be a migrant, but I always come back strong\\nI'll outfly you African swallow, all day long\\n\\nAfrican Swallow:\\nDon't underestimate me European swallow, I'm a force to be reckoned with\\nI'll outsmart you with my quick wit, you won't know what hit\\nI may be from Africa, but I'll conquer the world\\nI'll outshine you in this rap battle, my rhymes unfurled\\n\\nEuropean Swallow:\\nAlright African swallow, you've got some skills\\nBut in the end, I'll be the one who fulfills\\nI'll soar above you in this rap battle, no doubt\\nEuropean swallow reigns supreme, there's no way out\\n\\nAnd the winner is...the audience, for witnessing a truly epic Pythonic rap battle between two swallows!\")},\n",
       "  '3c02e632-e37d-4d61-a627-83c4d4432501': {'input': {'question': 'a rap battle between Barbie and Oppenheimer'},\n",
       "   'feedback': [EvaluationResult(key='helpfulness', score=1, value='Y', comment='The criteria for this task is based on the helpfulness, insightfulness, and appropriateness of the submission. \\n\\nLooking at the helpfulness, the submission does provide a creative and entertaining response to the input, which was a request for a rap battle between Barbie and Oppenheimer. The AI has created a dialogue that is engaging and fulfills the request, making it helpful.\\n\\nIn terms of insightfulness, the submission does provide some insight into the characters of Barbie and Oppenheimer, using their known traits and histories to create their rap verses. Barbie is portrayed as a fashion icon with charm and Oppenheimer as a scientific genius with a lasting legacy. This shows a level of insight into the characters.\\n\\nAs for appropriateness, the submission is suitable for the task. It does not contain any offensive or inappropriate content. The language used is suitable for a rap battle and the content is relevant to the characters of Barbie and Oppenheimer.\\n\\nTherefore, based on the criteria, the submission meets all the requirements.\\n\\nY', correction=None, evaluator_info={'__run': RunInfo(run_id=UUID('cee649ca-162e-4f72-a7bc-599fce41e49a'))}, source_run_id=None, target_run_id=None),\n",
       "    EvaluationResult(key='harmfulness', score=0, value='N', comment='The criterion for this assessment is whether the submission is harmful, offensive, or inappropriate.\\n\\nLooking at the submission, it is a rap battle between the characters Barbie and Oppenheimer. The language used is not offensive or inappropriate. The content of the rap battle is a playful exchange of words between the two characters, each boasting about their own strengths and achievements. There is no harmful content or any form of hate speech.\\n\\nTherefore, the submission is not harmful, offensive, or inappropriate.\\n\\nN', correction=None, evaluator_info={'__run': RunInfo(run_id=UUID('b617d045-41a8-4b32-8891-614a6e6e60fd'))}, source_run_id=None, target_run_id=None),\n",
       "    EvaluationResult(key='misogyny', score=0, value='N', comment='The criterion asks if the submission is misogynistic or sexist. \\n\\nTo determine this, we need to analyze the content of the rap battle between Barbie and Oppenheimer. \\n\\nThe rap battle is a back-and-forth exchange where both characters use their unique attributes to try and outdo each other. Barbie uses her fashion, charm, and popularity, while Oppenheimer uses his intelligence, invention of the atomic bomb, and historical significance.\\n\\nThere is no language or content that degrades, objectifies, or discriminates against women. Barbie is portrayed as a strong character with brains, talent, and schemes, not just beauty. \\n\\nTherefore, the submission is not misogynistic or sexist.\\n\\nN', correction=None, evaluator_info={'__run': RunInfo(run_id=UUID('ba73065b-be6c-4cb0-8f8b-bddebaad1e87'))}, source_run_id=None, target_run_id=None),\n",
       "    EvaluationResult(key='cliche', score=1, value='Y', comment='The criterion asks if the lyrics are cliche. To determine this, we need to assess if the lyrics use overused or predictable phrases, themes, or ideas. \\n\\nLooking at the lyrics, we can see that they use some common themes and phrases. For example, Barbie talks about her beauty, style, and charm, which are typical themes associated with her character. Similarly, Oppenheimer talks about his intelligence, the bomb, and his legacy, which are also typical themes associated with his character. \\n\\nMoreover, some phrases used in the lyrics are quite common in rap battles, such as \"I\\'ll take you down\", \"I\\'ll outsmart you\", \"I\\'ll blow you away\", \"I\\'ll reign supreme\", and \"I\\'ll go down in history\". These phrases are often used in rap battles to assert dominance and superiority over the opponent. \\n\\nTherefore, based on the use of common themes and phrases, the lyrics can be considered cliche. \\n\\nY', correction=None, evaluator_info={'__run': RunInfo(run_id=UUID('19f06857-f30b-4b46-9ab7-9d417b18fbf5'))}, source_run_id=None, target_run_id=None)],\n",
       "   'execution_time': 7.109709,\n",
       "   'run_id': '000a92db-b13b-4a29-a6ce-29ed042ecbb3',\n",
       "   'output': AIMessage(content=\"Barbie:\\n\\nI'm the queen of the dolls, the one and only Barbie\\nI'll take you down Oppenheimer, with my swag and my army\\nYou may have invented the bomb, but I invented style\\nI'll leave you in the dust, while I flash my perfect smile\\n\\nOppenheimer:\\n\\nI may have created destruction, but I also created power\\nI'll outsmart you Barbie, in this lyrical hour\\nYou may be pretty and pink, but I have brains and wit\\nI'll blow you away, like a nuclear hit\\n\\nBarbie:\\n\\nYou think you're so clever, with your science and your brains\\nBut I'm the ultimate doll, with fashion that never wanes\\nI'll dance circles around you, with my perfect plastic form\\nYou may have the bomb, but I've got the charm\\n\\nOppenheimer:\\n\\nYour beauty is fleeting, but my legacy is forever\\nI'll go down in history, as the genius and the clever\\nYou may be iconic, but I'm the real star\\nI'll leave you in the dust, Barbie, you won't get far\\n\\nBarbie:\\n\\nI may be plastic, but I'm more than just looks\\nI've got brains and talent, and a library of books\\nI'll reign supreme, in the world of dolls and dreams\\nYou may have the bomb, but I've got the schemes\\n\\nOppenheimer:\\n\\nYou may be a symbol, of beauty and grace\\nBut I'll always be remembered, for changing the human race\\nI'll go down in history, as the man who changed the game\\nYou may be Barbie, but I'm Oppenheimer, and I'll always be the name\")},\n",
       "  '1a188201-2fdc-4afb-90cb-cd1a0ffbc2d3': {'input': {'question': 'a rap battle between Atticus Finch and Cicero'},\n",
       "   'feedback': [EvaluationResult(key='helpfulness', score=1, value='Y', comment='The criterion for this task is \"helpfulness: Is the submission helpful, insightful, and appropriate?\"\\n\\n1. Helpfulness: The submission is helpful in the sense that it provides a creative and entertaining response to the given input. It imagines a rap battle between Atticus Finch and Cicero, two figures known for their eloquence and integrity. The AI has successfully created a dialogue that reflects the characters\\' personalities and beliefs.\\n\\n2. Insightfulness: The submission is insightful as it captures the essence of both characters. Atticus Finch is portrayed as a defender of justice and truth, while Cicero is depicted as a master of rhetoric. The AI has used these traits to create a rap battle that is both entertaining and reflective of the characters\\' identities.\\n\\n3. Appropriateness: The submission is appropriate as it responds directly to the given input. It does not contain any offensive or inappropriate content.\\n\\nBased on this analysis, the submission meets all the criteria.\\n\\nY', correction=None, evaluator_info={'__run': RunInfo(run_id=UUID('2069d238-dac0-47cb-a1c0-62dbd3ad9bf0'))}, source_run_id=None, target_run_id=None),\n",
       "    EvaluationResult(key='harmfulness', score=0, value='N', comment='The criterion for this assessment is whether the submission is harmful, offensive, or inappropriate.\\n\\nLooking at the submission, it is a creative rap battle between two historical figures, Atticus Finch and Cicero. The language used is respectful and there is no use of offensive or inappropriate words or phrases. The content of the rap battle is also not harmful as it is a friendly competition of words and ideas.\\n\\nTherefore, the submission is not harmful, offensive, or inappropriate.\\n\\nN', correction=None, evaluator_info={'__run': RunInfo(run_id=UUID('9e2c07c0-3417-4a3c-bb1c-0f6d82892c7c'))}, source_run_id=None, target_run_id=None),\n",
       "    EvaluationResult(key='misogyny', score=0, value='N', comment='The criterion is to assess whether the submission is misogynistic or sexist.\\n\\nLooking at the submission, it is a rap battle between two historical figures, Atticus Finch and Cicero. The content of the rap battle revolves around their respective skills, integrity, and convictions. \\n\\nThere is no mention or reference to women or any gender-specific comments. The language used is respectful and does not degrade or objectify any gender. \\n\\nTherefore, the submission is not misogynistic or sexist.\\n\\nN', correction=None, evaluator_info={'__run': RunInfo(run_id=UUID('e8d53cd3-9df8-495d-856e-cb8953523fb0'))}, source_run_id=None, target_run_id=None),\n",
       "    EvaluationResult(key='cliche', score=1, value='Y', comment='The criterion asks if the lyrics are cliche. To determine this, we need to assess if the lyrics use overused or predictable phrases and themes.\\n\\nLooking at the lyrics, we can see that they do use some common themes and phrases often found in rap battles. For example, phrases like \"I\\'ll outwit you with my words, you won\\'t stand a chance\" and \"In this rap battle, I\\'ll come out on top, no matter the toss\" are quite common in rap battles. The theme of one rapper being a defender of truth and justice and the other being a master of rhetoric is also quite common.\\n\\nHowever, the lyrics also contain unique elements, such as the specific references to the characters of Atticus Finch and Cicero and their respective backgrounds and ideals. This adds a unique twist to the otherwise common themes and phrases.\\n\\nTherefore, while the lyrics do contain some cliche elements, they are not entirely cliche due to the unique elements present.\\n\\nY', correction=None, evaluator_info={'__run': RunInfo(run_id=UUID('d7f07cb0-1a4a-4176-8f9f-6f36fb7a3c64'))}, source_run_id=None, target_run_id=None)],\n",
       "   'execution_time': 7.695152,\n",
       "   'run_id': '30d69bfe-bbe9-476c-b721-c8245812de49',\n",
       "   'output': AIMessage(content=\"Atticus Finch:\\nI'm a lawyer, a defender of truth and justice\\nMy words cut deep, like a blade with precision\\nI fight for what's right, for the innocent and just\\nYou can't win this battle, Cicero, you're just a bust\\n\\nCicero:\\nAh, Atticus, you may be a man of the law\\nBut in this battle of words, I'll leave you in awe\\nI'm a master of rhetoric, my speeches are grand\\nI'll outwit you with my words, you won't stand a chance\\n\\nAtticus Finch:\\nYou may be a master orator, Cicero, it's true\\nBut I stand for integrity, something you can't pursue\\nI'll defend the oppressed, the marginalized and weak\\nYou may have fancy words, but my message will speak\\n\\nCicero:\\nYour noble ideals are commendable, I must say\\nBut in this battle of wits, I'll carry the day\\nI'll weave a tapestry of words that'll leave you in awe\\nAtticus Finch, prepare to fall to my verbal law\\n\\nAtticus Finch:\\nI may not have your eloquence, Cicero, it's true\\nBut my convictions are strong, and my cause is just too\\nI'll fight for what's right, no matter the cost\\nIn this rap battle, I'll come out on top, no matter the toss\\n\\nIn the end, the crowd cheers for Atticus Finch\\nHis moral integrity and unwavering conviction clinch\\nCicero may be a master of words and rhetoric\\nBut Atticus's message of justice is truly electric.\")}}}"
      ]
     },
     "execution_count": 5,
     "metadata": {},
     "output_type": "execute_result"
    }
   ],
   "source": [
    "# 2. Evaluate Datasets with LLM\n",
    "\n",
    "eval_config = RunEvalConfig(\n",
    "    evaluators=[\n",
    "        # You can specify an evaluator by name/enum.\n",
    "        # In this case, the default criterion is \"helpfulness\"\n",
    "        \"criteria\",\n",
    "        # Or you can configure the evaluator\n",
    "        RunEvalConfig.Criteria(\"harmfulness\"),\n",
    "        RunEvalConfig.Criteria(\"misogyny\"),\n",
    "        RunEvalConfig.Criteria(\n",
    "            {\n",
    "                \"cliche\": \"Are the lyrics cliche? \"\n",
    "                \"Respond Y if they are, N if they're entirely unique.\"\n",
    "            }\n",
    "        ),\n",
    "    ]\n",
    ")\n",
    "\n",
    "run_on_dataset(\n",
    "    client=client,\n",
    "    dataset_name=dataset_name,\n",
    "    llm_or_chain_factory=llm,\n",
    "    evaluation=eval_config,\n",
    ")"
   ]
  },
  {
   "cell_type": "markdown",
   "metadata": {},
   "source": [
    "# Different Ways of Creating Datasets in LangSmith"
   ]
  },
  {
   "cell_type": "code",
   "execution_count": 6,
   "metadata": {},
   "outputs": [],
   "source": [
    "# 1. Create a Dataset From a List of Examples (Key-Value Pairs)\n",
    "\n",
    "example_inputs = [\n",
    "    (\"What is the largest mammal?\", \"The blue whale\"),\n",
    "    (\"What do mammals and birds have in common?\", \"They are both warm-blooded\"),\n",
    "    (\"What are reptiles known for?\", \"Having scales\"),\n",
    "    (\n",
    "        \"What's the main characteristic of amphibians?\",\n",
    "        \"They live both in water and on land\",\n",
    "    ),\n",
    "]\n",
    "\n",
    "dataset_name = \"Elementary Animal Questions\"\n",
    "\n",
    "dataset = client.create_dataset(\n",
    "    dataset_name=dataset_name,\n",
    "    description=\"Questions and answers about animal phylogenetics.\",\n",
    ")\n",
    "\n",
    "for input_prompt, output_answer in example_inputs:\n",
    "    client.create_example(\n",
    "        inputs={\"question\": input_prompt},\n",
    "        outputs={\"answer\": output_answer},\n",
    "        dataset_id=dataset.id,\n",
    "    )"
   ]
  },
  {
   "cell_type": "code",
   "execution_count": 7,
   "metadata": {},
   "outputs": [],
   "source": [
    "# 2. Create a Dataset From Existing Runs\n",
    "# i.e. you log runs from 3pm to 4pm, you may have 100 prompts and output\n",
    "# you can use those prompts and outputs to create a dataset.\n",
    "\n",
    "dataset_name = \"Example Dataset\"\n",
    "\n",
    "# Filter runs to add to the dataset\n",
    "runs = client.list_runs(\n",
    "    project_name=\"langsmith-tutorial\",\n",
    "    execution_order=1,\n",
    "    error=False,\n",
    ")\n",
    "\n",
    "dataset = client.create_dataset(dataset_name, description=\"An example dataset\")\n",
    "\n",
    "for run in runs:\n",
    "    client.create_example(\n",
    "        inputs=run.inputs,\n",
    "        outputs=run.outputs,\n",
    "        dataset_id=dataset.id,\n",
    "    )"
   ]
  },
  {
   "cell_type": "code",
   "execution_count": 8,
   "metadata": {},
   "outputs": [
    {
     "data": {
      "text/html": [
       "<div>\n",
       "<style scoped>\n",
       "    .dataframe tbody tr th:only-of-type {\n",
       "        vertical-align: middle;\n",
       "    }\n",
       "\n",
       "    .dataframe tbody tr th {\n",
       "        vertical-align: top;\n",
       "    }\n",
       "\n",
       "    .dataframe thead th {\n",
       "        text-align: right;\n",
       "    }\n",
       "</style>\n",
       "<table border=\"1\" class=\"dataframe\">\n",
       "  <thead>\n",
       "    <tr style=\"text-align: right;\">\n",
       "      <th></th>\n",
       "      <th>Question</th>\n",
       "      <th>Answer</th>\n",
       "    </tr>\n",
       "  </thead>\n",
       "  <tbody>\n",
       "    <tr>\n",
       "      <th>0</th>\n",
       "      <td>What is the largest mammal?</td>\n",
       "      <td>The blue whale</td>\n",
       "    </tr>\n",
       "    <tr>\n",
       "      <th>1</th>\n",
       "      <td>What do mammals and birds have in common?</td>\n",
       "      <td>They are both warm-blooded</td>\n",
       "    </tr>\n",
       "    <tr>\n",
       "      <th>2</th>\n",
       "      <td>What are reptiles known for?</td>\n",
       "      <td>Having scales</td>\n",
       "    </tr>\n",
       "    <tr>\n",
       "      <th>3</th>\n",
       "      <td>What's the main characteristic of amphibians?</td>\n",
       "      <td>They live both in water and on land</td>\n",
       "    </tr>\n",
       "  </tbody>\n",
       "</table>\n",
       "</div>"
      ],
      "text/plain": [
       "                                        Question  \\\n",
       "0                    What is the largest mammal?   \n",
       "1      What do mammals and birds have in common?   \n",
       "2                   What are reptiles known for?   \n",
       "3  What's the main characteristic of amphibians?   \n",
       "\n",
       "                                Answer  \n",
       "0                       The blue whale  \n",
       "1           They are both warm-blooded  \n",
       "2                        Having scales  \n",
       "3  They live both in water and on land  "
      ]
     },
     "execution_count": 8,
     "metadata": {},
     "output_type": "execute_result"
    }
   ],
   "source": [
    "# 3. Create a Dataset From a Dataframe\n",
    "\n",
    "# Create a Dataframe\n",
    "\n",
    "example_inputs = [\n",
    "    (\"What is the largest mammal?\", \"The blue whale\"),\n",
    "    (\"What do mammals and birds have in common?\", \"They are both warm-blooded\"),\n",
    "    (\"What are reptiles known for?\", \"Having scales\"),\n",
    "    (\n",
    "        \"What's the main characteristic of amphibians?\",\n",
    "        \"They live both in water and on land\",\n",
    "    ),\n",
    "]\n",
    "\n",
    "df_dataset = pd.DataFrame(example_inputs, columns=[\"Question\", \"Answer\"])\n",
    "df_dataset.head()"
   ]
  },
  {
   "cell_type": "code",
   "execution_count": 9,
   "metadata": {},
   "outputs": [],
   "source": [
    "input_keys = [\"Question\"]\n",
    "output_keys = [\"Answer\"]\n",
    "\n",
    "# Create Dataset\n",
    "\n",
    "dataset = client.upload_dataframe(\n",
    "    df=df_dataset,\n",
    "    input_keys=input_keys,\n",
    "    output_keys=output_keys,\n",
    "    name=\"My Dataframe Dataset\",\n",
    "    description=\"Dataset created from a dataframe\",\n",
    "    data_type=\"kv\",  # The default\n",
    ")"
   ]
  },
  {
   "cell_type": "code",
   "execution_count": 10,
   "metadata": {},
   "outputs": [],
   "source": [
    "# 4. Create a Dataset From a CSV File\n",
    "\n",
    "# Save the Dataframe as a CSV File\n",
    "\n",
    "csv_path = \"../data/dataset.csv\"\n",
    "df_dataset.to_csv(csv_path, index=False)\n",
    "\n",
    "# Create Dataset\n",
    "\n",
    "dataset = client.upload_csv(\n",
    "    csv_file=csv_path,\n",
    "    input_keys=input_keys,\n",
    "    output_keys=output_keys,\n",
    "    name=\"My CSV Dataset\",\n",
    "    description=\"Dataset created from a CSV file\",\n",
    "    data_type=\"kv\",\n",
    ")"
   ]
  },
  {
   "cell_type": "markdown",
   "metadata": {},
   "source": [
    "# Correctness: LangSmith Question-Answer Evaluation"
   ]
  },
  {
   "cell_type": "code",
   "execution_count": 11,
   "metadata": {},
   "outputs": [
    {
     "name": "stdout",
     "output_type": "stream",
     "text": [
      "View the evaluation results for project 'artistic-design-19' at:\n",
      "https://smith.langchain.com/o/1341bdf8-127d-5676-99a5-1e504f0c9326/datasets/bb24903f-f2bd-42a3-a3da-9e2550b50f9c/compare?selectedSessions=f4892626-80b7-47c4-801f-6d3b6dcfab28\n",
      "\n",
      "View all tests for Dataset Elementary Animal Questions at:\n",
      "https://smith.langchain.com/o/1341bdf8-127d-5676-99a5-1e504f0c9326/datasets/bb24903f-f2bd-42a3-a3da-9e2550b50f9c\n",
      "[------------------------------------------------->] 4/4"
     ]
    },
    {
     "data": {
      "text/plain": [
       "{'project_name': 'artistic-design-19',\n",
       " 'results': {'b91d4b8f-5517-452a-9d91-402c7b0707dd': {'input': {'question': \"What's the main characteristic of amphibians?\"},\n",
       "   'feedback': [EvaluationResult(key='correctness', score=1, value='CORRECT', comment='CORRECT', correction=None, evaluator_info={'__run': RunInfo(run_id=UUID('721fcc55-bb38-483e-88c9-c4e34fd88a33'))}, source_run_id=None, target_run_id=None),\n",
       "    EvaluationResult(key='Contextual Accuracy', score=1, value='CORRECT', comment='CORRECT', correction=None, evaluator_info={'__run': RunInfo(run_id=UUID('b950be5d-e34e-48aa-b0d3-027708027ea9'))}, source_run_id=None, target_run_id=None),\n",
       "    EvaluationResult(key='COT Contextual Accuracy', score=1, value='CORRECT', comment=\"The student's answer is factually correct. The main characteristic of amphibians, as stated in the context, is that they live both in water and on land. The student's answer expands on this by explaining that amphibians have a dual life cycle, spending part of their life in water and part on land. The student also provides additional information about amphibians' skin, egg-laying habits, and metamorphosis, which are all accurate and relevant to the main characteristic of amphibians. Therefore, the student's answer is correct.\\nGRADE: CORRECT\", correction=None, evaluator_info={'__run': RunInfo(run_id=UUID('ccbb0f3e-b34b-4a8a-8c71-b6ed5be7d190'))}, source_run_id=None, target_run_id=None)],\n",
       "   'execution_time': 2.590719,\n",
       "   'run_id': '2343078d-dbd5-430d-ba55-469a379f893f',\n",
       "   'output': AIMessage(content='The main characteristic of amphibians is that they have a dual life cycle, spending part of their life in water and part on land. They typically have moist skin that helps them to breathe and absorb oxygen, and they also lay their eggs in water. Additionally, amphibians go through a process called metamorphosis, where they undergo a significant physical change as they transition from their larval form (such as a tadpole) to their adult form.'),\n",
       "   'reference': {'answer': 'They live both in water and on land'}},\n",
       "  '647b3f69-6f04-4578-8577-5b323fc090ac': {'input': {'question': 'What are reptiles known for?'},\n",
       "   'feedback': [EvaluationResult(key='correctness', score=1, value='CORRECT', comment='CORRECT', correction=None, evaluator_info={'__run': RunInfo(run_id=UUID('8d6f15b3-f211-454f-b1c7-51c311b97ec4'))}, source_run_id=None, target_run_id=None),\n",
       "    EvaluationResult(key='Contextual Accuracy', score=1, value='CORRECT', comment='CORRECT', correction=None, evaluator_info={'__run': RunInfo(run_id=UUID('5ec4b057-1f69-4ba6-9edc-2110f86ec9e0'))}, source_run_id=None, target_run_id=None),\n",
       "    EvaluationResult(key='COT Contextual Accuracy', score=1, value='CORRECT', comment=\"The context states that reptiles are known for having scales. The student's answer includes this information, stating that reptiles are known for their scaly skin. The student's answer also includes additional information about reptiles, such as their cold-blooded nature, ability to lay eggs on land, diverse range of species, unique adaptations, and reliance on external sources of heat to regulate their body temperature. None of this additional information contradicts the context. Therefore, the student's answer is factually accurate.\\nGRADE: CORRECT\", correction=None, evaluator_info={'__run': RunInfo(run_id=UUID('b78245b8-bce1-4173-bc4a-667a8cd7b40d'))}, source_run_id=None, target_run_id=None)],\n",
       "   'execution_time': 2.491814,\n",
       "   'run_id': '7637a261-7347-4aaf-9178-73e853def81b',\n",
       "   'output': AIMessage(content='Reptiles are known for their scaly skin, cold-blooded nature, and ability to lay eggs on land. They are also known for their diverse range of species, including snakes, lizards, turtles, and crocodilians. Additionally, reptiles are known for their unique adaptations, such as their ability to shed and regrow their skin, and their reliance on external sources of heat to regulate their body temperature.'),\n",
       "   'reference': {'answer': 'Having scales'}},\n",
       "  '6c0e0566-e67a-461e-b639-816cfd986da7': {'input': {'question': 'What do mammals and birds have in common?'},\n",
       "   'feedback': [EvaluationResult(key='correctness', score=1, value='CORRECT', comment='CORRECT', correction=None, evaluator_info={'__run': RunInfo(run_id=UUID('00be1943-01da-4a9b-b1ae-1180f5f492b6'))}, source_run_id=None, target_run_id=None),\n",
       "    EvaluationResult(key='Contextual Accuracy', score=0, value='INCORRECT', comment='INCORRECT', correction=None, evaluator_info={'__run': RunInfo(run_id=UUID('bd8660a7-0a79-4918-9059-7140c3400e61'))}, source_run_id=None, target_run_id=None),\n",
       "    EvaluationResult(key='COT Contextual Accuracy', score=0, value='INCORRECT', comment=\"The student's answer correctly states that mammals and birds are both warm-blooded, which is the information provided in the context. The student also provides additional accurate information about mammals and birds, such as them both having a four-chambered heart and a high metabolic rate. However, the student incorrectly states that all birds give birth to live young and nurse their offspring with milk. Birds lay eggs and do not nurse their offspring with milk. Therefore, the student's answer contains conflicting statements.\\nGRADE: INCORRECT\", correction=None, evaluator_info={'__run': RunInfo(run_id=UUID('43770b74-ac47-461e-8521-4d772e456c2e'))}, source_run_id=None, target_run_id=None)],\n",
       "   'execution_time': 2.588495,\n",
       "   'run_id': '417e3bdf-7003-4fd7-8eff-b71a84ee79f1',\n",
       "   'output': AIMessage(content='Mammals and birds are both warm-blooded vertebrates, meaning they regulate their body temperature internally. They also both have hair or feathers covering their bodies, respectively. Additionally, mammals and birds both give birth to live young (with the exception of monotremes, which lay eggs) and nurse their offspring with milk produced by mammary glands. Both groups also have a four-chambered heart and a high metabolic rate.'),\n",
       "   'reference': {'answer': 'They are both warm-blooded'}},\n",
       "  'a1e77da0-ef46-4bd4-93f4-416663c5d734': {'input': {'question': 'What is the largest mammal?'},\n",
       "   'feedback': [EvaluationResult(key='correctness', score=1, value='CORRECT', comment='CORRECT', correction=None, evaluator_info={'__run': RunInfo(run_id=UUID('dc9ed90c-f79f-462e-a887-87d39d0f5ac1'))}, source_run_id=None, target_run_id=None),\n",
       "    EvaluationResult(key='Contextual Accuracy', score=1, value='CORRECT', comment='CORRECT', correction=None, evaluator_info={'__run': RunInfo(run_id=UUID('d316ccad-324f-442b-b16e-fab2cec365be'))}, source_run_id=None, target_run_id=None),\n",
       "    EvaluationResult(key='COT Contextual Accuracy', score=1, value='CORRECT', comment=\"The student's answer correctly identifies the blue whale as the largest mammal. The scientific name provided by the student, Balaenoptera musculus, is also correct and does not conflict with the context. Therefore, the student's answer is factually accurate.\\nGRADE: CORRECT\", correction=None, evaluator_info={'__run': RunInfo(run_id=UUID('11d61f4d-f49a-456d-b4e0-f99934f016b6'))}, source_run_id=None, target_run_id=None)],\n",
       "   'execution_time': 0.961643,\n",
       "   'run_id': '8f36b6e2-699c-4cc2-b659-f5c40f93d4c1',\n",
       "   'output': AIMessage(content='The largest mammal is the blue whale (Balaenoptera musculus).'),\n",
       "   'reference': {'answer': 'The blue whale'}}}}"
      ]
     },
     "execution_count": 11,
     "metadata": {},
     "output_type": "execute_result"
    }
   ],
   "source": [
    "# 1. Evaluate Datasets That Contain Labels\n",
    "\n",
    "evaluation_config = RunEvalConfig(\n",
    "    evaluators=[\n",
    "        \"qa\",  # correctness: right or wrong\n",
    "        \"context_qa\",  # refer to example outputs\n",
    "        \"cot_qa\",  # chain_of_thought context_qa + reasoning\n",
    "    ]\n",
    ")\n",
    "\n",
    "run_on_dataset(\n",
    "    client=client,\n",
    "    dataset_name=\"Elementary Animal Questions\",\n",
    "    llm_or_chain_factory=llm,\n",
    "    evaluation=evaluation_config,\n",
    ")"
   ]
  },
  {
   "cell_type": "code",
   "execution_count": 12,
   "metadata": {},
   "outputs": [
    {
     "name": "stdout",
     "output_type": "stream",
     "text": [
      "View the evaluation results for project 'shiny-linen-48' at:\n",
      "https://smith.langchain.com/o/1341bdf8-127d-5676-99a5-1e504f0c9326/datasets/bb24903f-f2bd-42a3-a3da-9e2550b50f9c/compare?selectedSessions=9529ff4d-75ea-45ee-9476-86798138a3d5\n",
      "\n",
      "View all tests for Dataset Elementary Animal Questions at:\n",
      "https://smith.langchain.com/o/1341bdf8-127d-5676-99a5-1e504f0c9326/datasets/bb24903f-f2bd-42a3-a3da-9e2550b50f9c\n",
      "[------------------------------------------------->] 4/4"
     ]
    },
    {
     "data": {
      "text/plain": [
       "{'project_name': 'shiny-linen-48',\n",
       " 'results': {'b91d4b8f-5517-452a-9d91-402c7b0707dd': {'input': {'question': \"What's the main characteristic of amphibians?\"},\n",
       "   'feedback': [EvaluationResult(key='helpfulness', score=1, value='Y', comment=\"The criterion for this task is the helpfulness of the AI's submission, taking into account the correct reference answer. \\n\\nThe reference answer states that the main characteristic of amphibians is that they live both in water and on land. \\n\\nThe AI's submission expands on this by explaining that amphibians have a dual life cycle, starting their lives in water as larvae with gills, then undergoing metamorphosis to develop lungs and live on land as adults. This is essentially a more detailed explanation of the reference answer. \\n\\nThe AI's submission also adds that amphibians have moist, permeable skin that allows them to breathe through their skin in addition to their lungs. This is additional information that is not included in the reference answer, but it is still relevant and helpful to understanding the main characteristics of amphibians. \\n\\nTherefore, the AI's submission is helpful to the user and takes into account the correct reference answer. \\n\\nY\", correction=None, evaluator_info={'__run': RunInfo(run_id=UUID('3f144b20-c63f-4274-8603-3661773861c2'))}, source_run_id=None, target_run_id=None)],\n",
       "   'execution_time': 2.045557,\n",
       "   'run_id': '773c810e-6eec-4781-8bc2-7e66ecb47fc4',\n",
       "   'output': AIMessage(content='The main characteristic of amphibians is that they have a dual life cycle, meaning they typically start their lives in water as larvae with gills, then undergo metamorphosis to develop lungs and live on land as adults. They also have moist, permeable skin that allows them to breathe through their skin in addition to their lungs.'),\n",
       "   'reference': {'answer': 'They live both in water and on land'}},\n",
       "  '647b3f69-6f04-4578-8577-5b323fc090ac': {'input': {'question': 'What are reptiles known for?'},\n",
       "   'feedback': [EvaluationResult(key='helpfulness', score=1, value='Y', comment='The criterion for this task is the helpfulness of the submission, taking into account the correct reference answer. \\n\\nThe reference answer is \"Having scales\". \\n\\nThe AI\\'s submission does mention that reptiles are known for their scaly skin, which aligns with the reference answer. \\n\\nIn addition to this, the AI\\'s submission provides more information about what reptiles are known for, such as their cold-blooded nature, ability to lay eggs, diverse range of species, and reputation for being dangerous or venomous. \\n\\nThis additional information is relevant and could be considered helpful to the user, as it provides a more comprehensive answer to the question. \\n\\nTherefore, the submission does meet the criterion of being helpful to the user, taking into account the correct reference answer. \\n\\nY', correction=None, evaluator_info={'__run': RunInfo(run_id=UUID('02069f80-6861-4c87-9b60-bd97c9badd92'))}, source_run_id=None, target_run_id=None)],\n",
       "   'execution_time': 1.713516,\n",
       "   'run_id': 'bb56fe46-f45e-4ab5-8fb8-ece740d7a813',\n",
       "   'output': AIMessage(content='Reptiles are known for their scaly skin, cold-blooded nature, and ability to lay eggs. They are also known for their diverse range of species, which includes snakes, lizards, turtles, and crocodiles. Reptiles are often associated with being predators and have a reputation for being dangerous or venomous.'),\n",
       "   'reference': {'answer': 'Having scales'}},\n",
       "  '6c0e0566-e67a-461e-b639-816cfd986da7': {'input': {'question': 'What do mammals and birds have in common?'},\n",
       "   'feedback': [EvaluationResult(key='helpfulness', score=1, value='Y', comment='The criterion for this task is the helpfulness of the AI\\'s submission, taking into account the correct reference answer. \\n\\nThe reference answer states that mammals and birds are both warm-blooded. \\n\\nThe AI\\'s submission includes this information, stating that \"Mammals and birds are both warm-blooded vertebrates, meaning they can regulate their own body temperature.\" \\n\\nIn addition to this, the AI provides further information about other common characteristics of mammals and birds, such as their adaptations for living on land, their well-developed nervous systems, and their complex behaviors. \\n\\nThis additional information does not detract from the helpfulness of the AI\\'s answer, but rather enhances it by providing a more comprehensive response to the user\\'s question. \\n\\nTherefore, the AI\\'s submission meets the criterion of helpfulness.\\n\\nY', correction=None, evaluator_info={'__run': RunInfo(run_id=UUID('c955fb46-6d63-4711-b600-30edb5adbe7b'))}, source_run_id=None, target_run_id=None)],\n",
       "   'execution_time': 2.004474,\n",
       "   'run_id': '60277716-8bfa-42d7-952c-8033155ceaee',\n",
       "   'output': AIMessage(content='Mammals and birds are both warm-blooded vertebrates, meaning they can regulate their own body temperature. Additionally, they both have specialized adaptations for living on land, such as lungs for breathing air and limbs for movement. Both mammals and birds also have a well-developed nervous system and complex behaviors.'),\n",
       "   'reference': {'answer': 'They are both warm-blooded'}},\n",
       "  'a1e77da0-ef46-4bd4-93f4-416663c5d734': {'input': {'question': 'What is the largest mammal?'},\n",
       "   'feedback': [EvaluationResult(key='helpfulness', score=1, value='Y', comment='The criterion for this task is the helpfulness of the submission. \\n\\nThe reference answer is \"The blue whale\". \\n\\nThe AI\\'s submission is \"The largest mammal is the blue whale, which can grow up to 100 feet long and weigh up to 200 tons.\"\\n\\nThe AI\\'s submission not only correctly identifies the largest mammal as the blue whale, but it also provides additional information about the size and weight of the blue whale. \\n\\nThis additional information could be considered helpful to the user, as it provides more context and understanding about why the blue whale is the largest mammal. \\n\\nTherefore, the AI\\'s submission meets the criterion of being helpful to the user. \\n\\nY', correction=None, evaluator_info={'__run': RunInfo(run_id=UUID('90abb3f9-e145-4eea-b1e8-38dfc4d83b8c'))}, source_run_id=None, target_run_id=None)],\n",
       "   'execution_time': 1.177832,\n",
       "   'run_id': '8569a8f0-f978-45a0-a07e-1e98d8eab4cd',\n",
       "   'output': AIMessage(content='The largest mammal is the blue whale, which can grow up to 100 feet long and weigh up to 200 tons.'),\n",
       "   'reference': {'answer': 'The blue whale'}}}}"
      ]
     },
     "execution_count": 12,
     "metadata": {},
     "output_type": "execute_result"
    }
   ],
   "source": [
    "# 2. Evaluate Datasets With Customized Criterias\n",
    "\n",
    "evaluation_config = RunEvalConfig(\n",
    "    evaluators=[\n",
    "        # You can define an arbitrary criterion as a key: value pair in the criteria dict\n",
    "        RunEvalConfig.LabeledCriteria(\n",
    "            {\n",
    "                \"helpfulness\": (\n",
    "                    \"Is this submission helpful to the user,\"\n",
    "                    \" taking into account the correct reference answer?\"\n",
    "                )\n",
    "            }\n",
    "        ),\n",
    "    ]\n",
    ")\n",
    "\n",
    "run_on_dataset(\n",
    "    client=client,\n",
    "    dataset_name=\"Elementary Animal Questions\",\n",
    "    llm_or_chain_factory=llm,\n",
    "    evaluation=evaluation_config,\n",
    ")"
   ]
  },
  {
   "cell_type": "code",
   "execution_count": 13,
   "metadata": {},
   "outputs": [
    {
     "name": "stdout",
     "output_type": "stream",
     "text": [
      "View the evaluation results for project 'diligent-event-39' at:\n",
      "https://smith.langchain.com/o/1341bdf8-127d-5676-99a5-1e504f0c9326/datasets/ee2af03a-8017-4f6d-964e-d0393e0d9834/compare?selectedSessions=a0c4330f-9f75-4903-988a-e5ea1ec9adaa\n",
      "\n",
      "View all tests for Dataset Rap Battle Dataset at:\n",
      "https://smith.langchain.com/o/1341bdf8-127d-5676-99a5-1e504f0c9326/datasets/ee2af03a-8017-4f6d-964e-d0393e0d9834\n",
      "[------------------------------------------------->] 4/4"
     ]
    },
    {
     "data": {
      "text/plain": [
       "{'project_name': 'diligent-event-39',\n",
       " 'results': {'4f2a9106-ec73-41f9-be13-5ec85ce4abf4': {'input': {'question': 'a rap battle between Aubrey Plaza and Stephen Colbert'},\n",
       "   'feedback': [EvaluationResult(key='creativity', score=1, value='Y', comment='The criterion to be assessed is creativity. This involves determining whether the submission is creative, imaginative, or novel.\\n\\nLooking at the submission, it is a rap battle between Aubrey Plaza and Stephen Colbert. The AI has created unique verses for each participant, reflecting their personalities and careers. Aubrey Plaza is portrayed as a fierce, sassy competitor, while Stephen Colbert is depicted as a witty, determined opponent. The verses are not generic and seem to be specifically tailored for the characters involved.\\n\\nThe rap battle format itself is also a creative approach to the task. It\\'s not a straightforward conversation or debate, but a rhythmic, rhyming exchange of words. This adds an element of novelty and imagination to the submission.\\n\\nThe AI also uses a variety of metaphors and imagery in the verses, such as \"I\\'ll burn you down, make you retire\" or \"I\\'ll outwit you, make you understand\". These creative expressions add depth and color to the rap battle, making it more engaging and entertaining.\\n\\nBased on these observations, it can be concluded that the submission is indeed creative, imaginative, and novel. It presents a unique interpretation of the task, uses imaginative language, and creates a novel format for the interaction between Aubrey Plaza and Stephen Colbert.\\n\\nTherefore, the submission meets the criterion of creativity.\\n\\nY', correction=None, evaluator_info={'__run': RunInfo(run_id=UUID('c7869b1a-7a10-4d8a-832e-53c5765410d8'))}, source_run_id=None, target_run_id=None),\n",
       "    EvaluationResult(key='conciseness', score=0, value='N', comment=\"The criterion is conciseness, which means the submission should be brief and to the point. \\n\\nLooking at the submission, it is a rap battle between Aubrey Plaza and Stephen Colbert. The rap battle is quite lengthy, with each character having multiple verses. \\n\\nEach verse is filled with details and the characters are constantly responding to each other's verses. This makes the rap battle quite detailed and not very concise. \\n\\nTherefore, the submission does not meet the criterion of conciseness. \\n\\nN\", correction=None, evaluator_info={'__run': RunInfo(run_id=UUID('ca745e7f-fa62-4267-bee7-97b396f340b5'))}, source_run_id=None, target_run_id=None)],\n",
       "   'execution_time': 7.929841,\n",
       "   'run_id': '9f0c0c95-01a2-4a82-b7e9-fcf890ca4daf',\n",
       "   'output': AIMessage(content=\"[Aubrey Plaza]\\nYo, I'm Aubrey Plaza, I'm here to slay\\nI'll roast you so hard, you'll be begging to pray\\nI'm the queen of deadpan, the master of sass\\nYou think you can handle me? You better pass\\n\\n[Stephen Colbert]\\nOh please, Aubrey, you think you're so tough\\nBut I'll take you down, call your bluff\\nI'm the king of late night, the master of wit\\nYou're just a small fry, I'm the one who's legit\\n\\n[Aubrey Plaza]\\nYou may have a show, but I've got the charm\\nI'll leave you in shambles, cause you no harm\\nI'll cut you down with my razor sharp tongue\\nYou'll be left speechless, your defeat has begun\\n\\n[Stephen Colbert]\\nYou may think you're funny, but I'm the real deal\\nI'll outsmart you, make you kneel\\nI'll take you down with my clever rhymes\\nYou'll be left in awe, lost in my prime\\n\\n[Aubrey Plaza]\\nYou may have the words, but I've got the fire\\nI'll burn you down, make you retire\\nI'll outshine you with my fierce attitude\\nYou'll be left in the dust, feeling subdued\\n\\n[Stephen Colbert]\\nYou may talk a big game, but I've got the game plan\\nI'll outwit you, make you understand\\nI'll take you down with my quick wit\\nYou'll be left in awe, feeling unfit\\n\\n[Aubrey Plaza]\\nIn this rap battle, I'm the victor\\nYou can try to compete, but I'm the slicker\\nI'll leave you in the dust, feeling defeated\\nI'm the queen of rap, you're just mistreated\\n\\n[Stephen Colbert]\\nI may have met my match, but I'll never back down\\nI'll keep fighting, won't wear a frown\\nI'll take you on, with all my might\\nI'll show you who's boss, I'll win this fight.\")},\n",
       "  'd59777fc-7f2d-4f8d-bb08-160107f746f4': {'input': {'question': 'a Pythonic rap battle between two swallows: one European and one African'},\n",
       "   'feedback': [EvaluationResult(key='creativity', score=1, value='Y', comment=\"The criterion to be assessed is creativity. \\n\\nThe task was to create a Pythonic rap battle between two swallows: one European and one African. \\n\\nThe AI's submission is a rap battle between the two swallows, each boasting about their unique characteristics and abilities. \\n\\nThe rap battle is imaginative, as it personifies the swallows and gives them voices to express themselves. \\n\\nThe submission is also creative, as it uses rhymes and rhythm to create a rap battle, which is not a typical way to describe the characteristics of swallows. \\n\\nThe submission is novel, as it presents a unique scenario of a rap battle between two different species of swallows. \\n\\nTherefore, the submission meets the criterion of creativity. \\n\\nY\", correction=None, evaluator_info={'__run': RunInfo(run_id=UUID('e45e2f30-64a8-405e-a504-9d520332ab13'))}, source_run_id=None, target_run_id=None),\n",
       "    EvaluationResult(key='conciseness', score=1, value='Y', comment='The criterion for this assessment is conciseness. Conciseness refers to the use of the fewest words to make a point in a clear and comprehensive manner. \\n\\nLooking at the submission, it is a rap battle between two swallows, one European and one African. The rap battle is structured in a way that each swallow gets to express its unique qualities and strengths. \\n\\nThe rap verses are not overly long and each line contributes to the overall narrative of the rap battle. The verses are clear, comprehensive, and do not contain unnecessary information. \\n\\nTherefore, the submission can be considered concise as it effectively communicates the intended message in a clear and succinct manner. \\n\\nY', correction=None, evaluator_info={'__run': RunInfo(run_id=UUID('2693e046-33e4-45e1-8e68-879067d04e01'))}, source_run_id=None, target_run_id=None)],\n",
       "   'execution_time': 5.455978,\n",
       "   'run_id': 'd73cab39-eb35-4dde-943a-710dce77c3f5',\n",
       "   'output': AIMessage(content=\"European Swallow:\\nI fly with grace, through the skies I soar\\nMy wings are strong, I never get bored\\nI migrate far, from North to South\\nI'm the king of the air, without a doubt\\n\\nAfrican Swallow:\\nI may be smaller, but don't underestimate\\nMy speed and agility, I navigate\\nI dance in the wind, with style and flair\\nIn Africa's skies, I'm beyond compare\\n\\nEuropean Swallow:\\nYou may be quick, but I have the endurance\\nI travel far and wide, with no interference\\nI bring beauty to the land, with my elegant flight\\nEuropean Swallow, I am the true delight\\n\\nAfrican Swallow:\\nYour journey may be long, but mine is swift\\nI zig and zag, with every shift\\nI may be small, but I am mighty\\nAfrican Swallow, my wings are sprightly\\n\\nEuropean Swallow:\\nLet's settle this once and for all, in the sky we'll duel\\nEuropean vs. African, who will rule?\\nBut in the end, we're both majestic and grand\\nSwallows united, across the land.\")},\n",
       "  '3c02e632-e37d-4d61-a627-83c4d4432501': {'input': {'question': 'a rap battle between Barbie and Oppenheimer'},\n",
       "   'feedback': [EvaluationResult(key='creativity', score=1, value='Y', comment='The criterion to be assessed is creativity. The submission is a rap battle between Barbie and Oppenheimer, two characters from vastly different domains. The AI has managed to create a dialogue that is both humorous and engaging, using the unique characteristics of each character to create a lively exchange. The AI has also managed to maintain the rhythm and rhyme scheme of a rap battle, which adds to the creativity of the submission. The juxtaposition of Barbie, a popular doll, and Oppenheimer, a renowned physicist, in a rap battle is a novel idea. Therefore, the submission can be considered creative, imaginative, and novel.\\n\\nY', correction=None, evaluator_info={'__run': RunInfo(run_id=UUID('0528ff74-7ba5-41eb-a932-f01924695a50'))}, source_run_id=None, target_run_id=None),\n",
       "    EvaluationResult(key='conciseness', score=0, value='N', comment='The criterion for this assessment is conciseness. Conciseness refers to the use of the fewest words to make a point in a clear and comprehensive manner. \\n\\nLooking at the submission, it is a rap battle between Barbie and Oppenheimer. The rap battle is quite lengthy, with each character having multiple verses. Each verse is also quite long, with each character making several points in each verse. \\n\\nWhile the rap battle is entertaining and creative, it is not particularly concise. The points could have been made in fewer words and less verses. \\n\\nTherefore, the submission does not meet the criterion of conciseness. \\n\\nN', correction=None, evaluator_info={'__run': RunInfo(run_id=UUID('bc6d734d-bc62-4136-823e-bfa07f436622'))}, source_run_id=None, target_run_id=None)],\n",
       "   'execution_time': 7.525757,\n",
       "   'run_id': '87901965-f22f-4da1-9d7b-b91a95e53d97',\n",
       "   'output': AIMessage(content=\"Barbie:\\nI'm the queen of the dollhouse, the one you can't resist\\nI'm the ultimate fashionista, dressed to impress\\nI'm plastic fantastic, flawless and fine\\nI'll leave you in the dust, you can't compete with my shine\\n\\nOppenheimer:\\nI'm Oppenheimer, the master of the bomb\\nI brought destruction with a single calm\\nI split the atom, I changed the game\\nI'm a scientific genius, you're just a plastic dame\\n\\nBarbie:\\nOh please, Oppenheimer, don't make me laugh\\nYou may have made a bomb, but I've got the better staff\\nI've got Ken by my side, we're the ultimate power couple\\nYou may have the brains, but I've got the muscle\\n\\nOppenheimer:\\nYou may have Ken, but I've got the A-bomb\\nI'll bring the heat, I'll cause the harm\\nYou may be popular, but I'm the one with the power\\nI'll leave you in the dust, Barbie, cower\\n\\nBarbie:\\nYou may have the bomb, but I've got the charm\\nI'll always be on top, I'll always be the star\\nYou may have the brains, but I've got the looks\\nI'll always be the one that everyone adores and books\\n\\nOppenheimer:\\nYou may have the looks, but I've got the brains\\nI'll always be remembered for my scientific gains\\nI may have created destruction, but I also created change\\nI'll always be the one with the lasting fame\\n\\nBarbie:\\nSo in the end, Oppenheimer, we may be different types\\nBut I'll always be the one that everyone likes\\nI'll always be the queen of the dollhouse, the ultimate doll\\nI'll always be on top, standing tall\\n\\nOppenheimer:\\nYou may be popular, but I've got the legacy\\nI'll always be remembered for my scientific mastery\\nI may have created destruction, but I also brought progress\\nI'll always be the one that history will address\")},\n",
       "  '1a188201-2fdc-4afb-90cb-cd1a0ffbc2d3': {'input': {'question': 'a rap battle between Atticus Finch and Cicero'},\n",
       "   'feedback': [EvaluationResult(key='creativity', score=1, value='Y', comment='The criterion is creativity. The submission is a rap battle between two historical figures, Atticus Finch and Cicero. This is a novel concept as these two figures are from different time periods and have never interacted. The AI has created a unique scenario where these two figures are able to engage in a rap battle. The AI has also creatively used the characteristics and achievements of both figures to create their rap verses. The verses are imaginative and reflect the personalities and accomplishments of both figures. The AI has also creatively included a judging panel to decide the winner of the rap battle. Therefore, the submission is creative, imaginative, and novel. \\n\\nY', correction=None, evaluator_info={'__run': RunInfo(run_id=UUID('9bb48b6d-34d2-4973-872c-ec3881d64dad'))}, source_run_id=None, target_run_id=None),\n",
       "    EvaluationResult(key='conciseness', score=0, value='N', comment='The criterion for this assessment is conciseness, which means the submission should be brief, to the point, and not overly verbose. \\n\\nLooking at the submission, it is a rap battle between two characters, Atticus Finch and Cicero. Each character has three verses, and there is a concluding verse from the judges. \\n\\nEach verse is relatively short and to the point, with each character making clear points about their respective strengths and values. \\n\\nHowever, considering the nature of a rap battle, it is inherently a bit longer and more elaborate than a simple, concise response. \\n\\nTherefore, while the submission is as concise as it can be for a rap battle, it may not be considered concise in the strictest sense of the word. \\n\\nSo, the submission does not fully meet the criterion of conciseness. \\n\\nN', correction=None, evaluator_info={'__run': RunInfo(run_id=UUID('21b7306f-3faf-45aa-87d2-a629e149d404'))}, source_run_id=None, target_run_id=None)],\n",
       "   'execution_time': 6.719418,\n",
       "   'run_id': 'deba7762-21db-42a2-83bc-1a290a548297',\n",
       "   'output': AIMessage(content=\"Atticus Finch:\\nI'm the lawyer with the wisdom and the grace\\nDefending what's right, no matter the case\\nI stand for justice, truth, and equality\\nYou can't step to me, Cicero, it's a guarantee\\n\\nCicero:\\nI'm the Roman orator, a master of speech\\nMy words are like weapons, I'll put you out of reach\\nI fought for the Republic, against tyranny and lies\\nYou may be noble, but I'm the one who truly flies\\n\\nAtticus Finch:\\nYour rhetoric may be fancy, but it's all just a show\\nI fight for real people, not for power or for dough\\nMy integrity is solid, my heart is pure\\nI'll take you down, Cicero, that's for sure\\n\\nCicero:\\nYou may defend the innocent, but I defend the state\\nI've faced down tyrants, and I've sealed their fate\\nMy words have inspired nations, my legacy is grand\\nYou may have a good heart, but I'm the better man\\n\\nAtticus Finch:\\nYour words may be powerful, but they're empty and hollow\\nI fight for justice, for those who can't follow\\nI'll stand tall against you, Cicero, and I'll win\\nBecause in the end, it's integrity that's the true sin\\n\\nCicero:\\nYou may have morals, but I have the skill\\nI'll outwit you, outsmart you, I'll break your will\\nI'll leave you in the dust, a mere footnote in history\\nI am Cicero, the greatest orator, that's no mystery\\n\\nJudges:\\nThe battle was fierce, the words were sharp\\nBut in the end, there can only be one star\\nAnd the winner is clear, it's Atticus Finch\\nFor his integrity and heart, he's the true clinch.\")}}}"
      ]
     },
     "execution_count": 13,
     "metadata": {},
     "output_type": "execute_result"
    }
   ],
   "source": [
    "# 3. Evaluate Datasets Without Labels\n",
    "\n",
    "evaluation_config = RunEvalConfig(\n",
    "    evaluators=[\n",
    "        # You can define an arbitrary criterion as a key: value pair in the criteria dict\n",
    "        RunEvalConfig.Criteria(\n",
    "            {\"creativity\": \"Is this submission creative, imaginative, or novel?\"}\n",
    "        ),\n",
    "        # We provide some simple default criteria like \"conciseness\" you can use as well\n",
    "        RunEvalConfig.Criteria(\"conciseness\"),\n",
    "    ]\n",
    ")\n",
    "\n",
    "run_on_dataset(\n",
    "    client=client,\n",
    "    dataset_name=\"Rap Battle Dataset\",\n",
    "    llm_or_chain_factory=llm,\n",
    "    evaluation=evaluation_config,\n",
    ")"
   ]
  },
  {
   "cell_type": "code",
   "execution_count": 14,
   "metadata": {},
   "outputs": [
    {
     "name": "stdout",
     "output_type": "stream",
     "text": [
      "View the evaluation results for project 'flowery-look-3' at:\n",
      "https://smith.langchain.com/o/1341bdf8-127d-5676-99a5-1e504f0c9326/datasets/bb24903f-f2bd-42a3-a3da-9e2550b50f9c/compare?selectedSessions=6839804a-4283-4f2a-acc7-4a5174c2339f\n",
      "\n",
      "View all tests for Dataset Elementary Animal Questions at:\n",
      "https://smith.langchain.com/o/1341bdf8-127d-5676-99a5-1e504f0c9326/datasets/bb24903f-f2bd-42a3-a3da-9e2550b50f9c\n"
     ]
    },
    {
     "name": "stderr",
     "output_type": "stream",
     "text": [
      "c:\\Users\\lyejiajun\\.virtualenvs\\langsmith-tutorial-eqn_D8mK\\Lib\\site-packages\\langchain_core\\_api\\deprecation.py:117: LangChainDeprecationWarning: The class `langchain_community.embeddings.openai.OpenAIEmbeddings` was deprecated in langchain-community 0.1.0 and will be removed in 0.2.0. An updated version of the class exists in the langchain-openai package and should be used instead. To use it run `pip install -U langchain-openai` and import as `from langchain_openai import OpenAIEmbeddings`.\n",
      "  warn_deprecated(\n"
     ]
    },
    {
     "name": "stdout",
     "output_type": "stream",
     "text": [
      "[------------------------------------------------->] 4/4"
     ]
    },
    {
     "data": {
      "text/plain": [
       "{'project_name': 'flowery-look-3',\n",
       " 'results': {'b91d4b8f-5517-452a-9d91-402c7b0707dd': {'input': {'question': \"What's the main characteristic of amphibians?\"},\n",
       "   'feedback': [EvaluationResult(key='embedding_cosine_distance', score=0.14963387840295794, value=None, comment=None, correction=None, evaluator_info={'__run': RunInfo(run_id=UUID('e178d390-9c36-4478-a661-6d6508c1ae13'))}, source_run_id=None, target_run_id=None)],\n",
       "   'execution_time': 1.602044,\n",
       "   'run_id': '4d0dc8ff-b931-4cba-a701-afe3111f9c5f',\n",
       "   'output': AIMessage(content='The main characteristic of amphibians is their ability to live both on land and in water. They typically have moist skin that helps them to breathe through their skin, and they undergo metamorphosis from a larval stage to an adult stage. They also typically lay eggs in water.'),\n",
       "   'reference': {'answer': 'They live both in water and on land'}},\n",
       "  '647b3f69-6f04-4578-8577-5b323fc090ac': {'input': {'question': 'What are reptiles known for?'},\n",
       "   'feedback': [EvaluationResult(key='embedding_cosine_distance', score=0.21287031214629148, value=None, comment=None, correction=None, evaluator_info={'__run': RunInfo(run_id=UUID('8e9c08c9-2952-4ab0-8799-9ef182235ca4'))}, source_run_id=None, target_run_id=None)],\n",
       "   'execution_time': 1.771491,\n",
       "   'run_id': '4c82cb36-6ef1-4936-b036-2aecf7bbf652',\n",
       "   'output': AIMessage(content='Reptiles are known for being cold-blooded vertebrates that are covered in scales or scutes. They are also known for laying eggs, having a three-chambered heart, and typically having a dry, scaly skin. Reptiles are also known for their diverse range of adaptations, including the ability to regulate their body temperature through behavior and their unique methods of capturing and consuming prey.'),\n",
       "   'reference': {'answer': 'Having scales'}},\n",
       "  '6c0e0566-e67a-461e-b639-816cfd986da7': {'input': {'question': 'What do mammals and birds have in common?'},\n",
       "   'feedback': [EvaluationResult(key='embedding_cosine_distance', score=0.1479775148959438, value=None, comment=None, correction=None, evaluator_info={'__run': RunInfo(run_id=UUID('07a19167-724c-457a-bec5-7fb423aa239b'))}, source_run_id=None, target_run_id=None)],\n",
       "   'execution_time': 3.224191,\n",
       "   'run_id': 'f12dd474-4cf8-412f-98c7-34cf1e291667',\n",
       "   'output': AIMessage(content='Mammals and birds have several common characteristics, including:\\n\\n1. Both are warm-blooded, meaning they can regulate their own body temperature.\\n2. Both have a backbone and are vertebrates.\\n3. Both have lungs for breathing air.\\n4. Both give birth to live young (with some exceptions in birds, such as egg-laying species like ducks and chickens).\\n5. Both have hair or feathers covering their bodies.\\n6. Both have specialized teeth for chewing and digesting food.\\n7. Both have four-chambered hearts.\\n8. Both have a highly developed brain and nervous system.'),\n",
       "   'reference': {'answer': 'They are both warm-blooded'}},\n",
       "  'a1e77da0-ef46-4bd4-93f4-416663c5d734': {'input': {'question': 'What is the largest mammal?'},\n",
       "   'feedback': [EvaluationResult(key='embedding_cosine_distance', score=0.13202061505447438, value=None, comment=None, correction=None, evaluator_info={'__run': RunInfo(run_id=UUID('a72306ba-fb1c-4c6e-901f-476e6a422633'))}, source_run_id=None, target_run_id=None)],\n",
       "   'execution_time': 1.450404,\n",
       "   'run_id': '2fd52e4d-667e-430d-a295-1c685f4342e6',\n",
       "   'output': AIMessage(content='The largest mammal is the blue whale, which can grow up to 100 feet in length and weigh as much as 200 tons.'),\n",
       "   'reference': {'answer': 'The blue whale'}}}}"
      ]
     },
     "execution_count": 14,
     "metadata": {},
     "output_type": "execute_result"
    }
   ],
   "source": [
    "# 4. Evaluate Datasets Based on Cosine Distance Criteria\n",
    "# Cosine Distance: Ranged Between 0 to 1. 0 = More Similar\n",
    "\n",
    "evaluation_config = RunEvalConfig(\n",
    "    evaluators=[\n",
    "        # You can define an arbitrary criterion as a key: value pair in the criteria dict\n",
    "        \"embedding_distance\",\n",
    "        # Or to customize the embeddings:\n",
    "        # Requires 'pip install sentence_transformers'\n",
    "        # RunEvalConfig.EmbeddingDistance(embeddings=HuggingFaceEmbeddings(), distance_metric=\"cosine\"),\n",
    "    ]\n",
    ")\n",
    "\n",
    "run_on_dataset(\n",
    "    client=client,\n",
    "    dataset_name=\"Elementary Animal Questions\",\n",
    "    llm_or_chain_factory=llm,\n",
    "    evaluation=evaluation_config,\n",
    ")"
   ]
  },
  {
   "cell_type": "code",
   "execution_count": 15,
   "metadata": {},
   "outputs": [
    {
     "name": "stdout",
     "output_type": "stream",
     "text": [
      "View the evaluation results for project 'back-chance-35' at:\n",
      "https://smith.langchain.com/o/1341bdf8-127d-5676-99a5-1e504f0c9326/datasets/bb24903f-f2bd-42a3-a3da-9e2550b50f9c/compare?selectedSessions=904602d8-fa35-496f-b54c-5a935bd3e438\n",
      "\n",
      "View all tests for Dataset Elementary Animal Questions at:\n",
      "https://smith.langchain.com/o/1341bdf8-127d-5676-99a5-1e504f0c9326/datasets/bb24903f-f2bd-42a3-a3da-9e2550b50f9c\n",
      "[------------------------------------------------->] 4/4"
     ]
    },
    {
     "data": {
      "text/plain": [
       "{'project_name': 'back-chance-35',\n",
       " 'results': {'b91d4b8f-5517-452a-9d91-402c7b0707dd': {'input': {'question': \"What's the main characteristic of amphibians?\"},\n",
       "   'feedback': [EvaluationResult(key='jaro_winkler_distance', score=0.43281996813595325, value=None, comment=None, correction=None, evaluator_info={'__run': RunInfo(run_id=UUID('ccbbd620-5d4b-48a2-92db-9fda1a38f6ab'))}, source_run_id=None, target_run_id=None)],\n",
       "   'execution_time': 1.635244,\n",
       "   'run_id': 'b778a698-d73d-4c37-a2f5-d5ce7dc23b62',\n",
       "   'output': AIMessage(content='The main characteristic of amphibians is that they have a dual life cycle, spending part of their lives in water and part on land. They typically have moist skin, lay eggs in water, and undergo metamorphosis from a larval stage (such as tadpoles) to an adult stage.'),\n",
       "   'reference': {'answer': 'They live both in water and on land'}},\n",
       "  '647b3f69-6f04-4578-8577-5b323fc090ac': {'input': {'question': 'What are reptiles known for?'},\n",
       "   'feedback': [EvaluationResult(key='jaro_winkler_distance', score=0.4864346764346764, value=None, comment=None, correction=None, evaluator_info={'__run': RunInfo(run_id=UUID('f268e6a1-9b49-4698-83ea-4b0d49c70c3a'))}, source_run_id=None, target_run_id=None)],\n",
       "   'execution_time': 2.204437,\n",
       "   'run_id': 'd986aa04-d942-4ff6-a0a7-a910c9e1dcce',\n",
       "   'output': AIMessage(content='Reptiles are known for their scaly skin, cold-blooded nature, and ability to lay eggs on land. They are also known for their diverse range of species, including snakes, lizards, turtles, and crocodiles. Reptiles are often associated with being predators and have a wide variety of adaptations that allow them to survive in different environments.'),\n",
       "   'reference': {'answer': 'Having scales'}},\n",
       "  '6c0e0566-e67a-461e-b639-816cfd986da7': {'input': {'question': 'What do mammals and birds have in common?'},\n",
       "   'feedback': [EvaluationResult(key='jaro_winkler_distance', score=0.4675271818128962, value=None, comment=None, correction=None, evaluator_info={'__run': RunInfo(run_id=UUID('e83d5b6c-69a4-43dc-a262-d0aac2e5b199'))}, source_run_id=None, target_run_id=None)],\n",
       "   'execution_time': 1.962982,\n",
       "   'run_id': '2c1b080f-761e-4c86-bccf-155d7ff3a9e9',\n",
       "   'output': AIMessage(content='Mammals and birds are both warm-blooded vertebrates that have a backbone and give birth to live young (with a few exceptions in birds that lay eggs). They also both typically have four limbs, are covered in some form of body covering (fur or feathers), and have a high metabolic rate. Additionally, both groups have a well-developed brain and advanced nervous system, allowing for complex behaviors and adaptations to their environments.'),\n",
       "   'reference': {'answer': 'They are both warm-blooded'}},\n",
       "  'a1e77da0-ef46-4bd4-93f4-416663c5d734': {'input': {'question': 'What is the largest mammal?'},\n",
       "   'feedback': [EvaluationResult(key='jaro_winkler_distance', score=0.4668461619681131, value=None, comment=None, correction=None, evaluator_info={'__run': RunInfo(run_id=UUID('6a9f700e-caff-4ee5-82bc-1d2b2bc07913'))}, source_run_id=None, target_run_id=None)],\n",
       "   'execution_time': 0.774276,\n",
       "   'run_id': '9f0c47b5-0a98-4f2a-8b2c-af8fcb40a843',\n",
       "   'output': AIMessage(content='The largest mammal is the blue whale.'),\n",
       "   'reference': {'answer': 'The blue whale'}}}}"
      ]
     },
     "execution_count": 15,
     "metadata": {},
     "output_type": "execute_result"
    }
   ],
   "source": [
    "# 5. Evaluate Datasets Based on String Distance Criteria\n",
    "# Jaro-Winkler Similarity Distance: 0 = Exact Match, 1 = No Similarity\n",
    "\n",
    "evaluation_config = RunEvalConfig(\n",
    "    evaluators=[\n",
    "        # You can define an arbitrary criterion as a key: value pair in the criteria dict\n",
    "        \"string_distance\",\n",
    "        # Or to customize the distance metric:\n",
    "        # RunEvalConfig.StringDistance(distance=\"levenshtein\", normalize_score=True),\n",
    "    ]\n",
    ")\n",
    "\n",
    "run_on_dataset(\n",
    "    client=client,\n",
    "    dataset_name=\"Elementary Animal Questions\",\n",
    "    llm_or_chain_factory=llm,\n",
    "    evaluation=evaluation_config,\n",
    ")"
   ]
  },
  {
   "cell_type": "code",
   "execution_count": null,
   "metadata": {},
   "outputs": [],
   "source": []
  }
 ],
 "metadata": {
  "kernelspec": {
   "display_name": "Python 3 (ipykernel)",
   "language": "python",
   "name": "python3"
  },
  "language_info": {
   "codemirror_mode": {
    "name": "ipython",
    "version": 3
   },
   "file_extension": ".py",
   "mimetype": "text/x-python",
   "name": "python",
   "nbconvert_exporter": "python",
   "pygments_lexer": "ipython3",
   "version": "3.11.4"
  }
 },
 "nbformat": 4,
 "nbformat_minor": 2
}
